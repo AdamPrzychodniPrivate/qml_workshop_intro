{
 "cells": [
  {
   "cell_type": "markdown",
   "id": "285e4b45-18ca-4e95-a771-1883d90c16ce",
   "metadata": {},
   "source": [
    "*Do not delete this style setting*"
   ]
  },
  {
   "cell_type": "code",
   "execution_count": 1,
   "id": "660013a9-981b-499a-a479-a237edf06dcd",
   "metadata": {},
   "outputs": [
    {
     "data": {
      "text/html": [
       "<style>\n",
       "table {float:left}\n",
       "</style>\n"
      ],
      "text/plain": [
       "<IPython.core.display.HTML object>"
      ]
     },
     "metadata": {},
     "output_type": "display_data"
    }
   ],
   "source": [
    "%%html\n",
    "<style>\n",
    "table {float:left}\n",
    "</style>"
   ]
  },
  {
   "cell_type": "markdown",
   "id": "0c4c98f9-22e2-46d6-aa1d-c20874b15c46",
   "metadata": {},
   "source": [
    "My brief notes on things for students to do:\n",
    "\n",
    "- Show the classical model in action\n",
    "- Data prep\n",
    "  - Data shuffling\n",
    "  - Dim reduction\n",
    "  - Use full data reuploading quantum model\n",
    "  - Play with its meta-parameters\n",
    "  - Use all knowlege from Session 2 to improve performance\n",
    "  - Compare quantum vs classical performance\n",
    "\n",
    "- Challenge\n",
    "  - Implement a custom initialisation method (research)\n",
    "  - Sonar dataset 2"
   ]
  },
  {
   "cell_type": "markdown",
   "id": "2bfc6bdc-f3a6-4fa5-937b-e40a1fcbcae9",
   "metadata": {},
   "source": [
    "# Session 3<br> A Simple Quantum Classifier\n",
    "\n",
    "<table>\n",
    "    <tr><td><strong>Aim:</strong></td>\n",
    "        <td>To explore the creation and use of a simple quantum classifier in <strong>PennyLane</strong> and <strong>PyTorch</strong><br>\n",
    "            Note that \"simplicity\" is only in data and the model structure - not in the approach!</td></tr>\n",
    "    <tr><td><strong>Author:</strong></td>\n",
    "        <td>Jacob L. Cybulski (<a href=\"https://jacobcybulski.com/\" target=\"_blank\">website</a>),\n",
    "            <em>Enquanted</em></td></tr>\n",
    "    <tr><td><strong>Release:</strong></td>\n",
    "        <td>April 2025</td></tr>\n",
    "    <tr><td><strong>Datasets:</strong></td>\n",
    "        <td>We will use the following two datasets from UCI repository (require: pip install ucimlrepo):<br>\n",
    "        <ol>\n",
    "            <li><a href=\"https://archive.ics.uci.edu/dataset/10/automobile\" target=\"_blank\">Automobiles</a>:\n",
    "              This is a database of automobile specs. The aim is to determine its insurance risk (symboling). Data loading and preprocessing was included below.</li>\n",
    "            <li><a href=\"https://archive.ics.uci.edu/dataset/151/connectionist+bench+sonar+mines+vs+rocks\" target=\"_blank\">Sonar</a>:\n",
    "              The aim is to discriminate between sonar signals bounced off a mine (metal cylinder) or a rock (roughly cylindrical).</li>\n",
    "        </ol></td></tr>\n",
    "    <tr><td><strong>Tasks:</strong></td>\n",
    "        <td>40 minutes (unfinished tasks go to self-directed \"challenges\")</td></tr>\n",
    "    <tr>\n",
    "        <td></td>\n",
    "        <td>Perform the following tasks<br>(record your observations at end of this notebook):<br>\n",
    "        <ol>\n",
    "            <li>Initially use the <strong><em>Automobiles</em></strong> dataset 1 (as provided).<br>\n",
    "                Follow the instructor demonstration to step through the code.</li>\n",
    "            <li>Investigate data preparation and its impact on the process and results,<br>\n",
    "                consequently:<br>\n",
    "                - explore the data set and improve data preparation<br>\n",
    "                - consider data ordering and what needs to be done about it</li>\n",
    "            <li>Can you improve the selected model by:<br>\n",
    "                - changing entangling methods (basic_ent = False/True) ?<br>\n",
    "                - changing the number of qubits/wires ?<br>\n",
    "                - changing the number of training epochs ?<br>\n",
    "                - changing the optimiser ?<br>\n",
    "                Which of these changes had the greatest impact on performance?</li>\n",
    "            <li>Change data encoding by increasing the encoding margin.<br>\n",
    "                What was the impact of your change? Why do you think it happened ?</li>\n",
    "            <li>Calculate testing MSE and R2 scores.<br>\n",
    "                Follow the example of calculating training R2.</li>\n",
    "            <li>Create a plot of residuals for training and test predictions.<br>\n",
    "                Note that residuals are (expected-predicted) values.</li>\n",
    "            <li>Reflect on this session.</li>\n",
    "        </ol></td>\n",
    "    </tr>\n",
    "    <tr>\n",
    "        <td><strong>Challenge<br>Tasks:</strong></td>\n",
    "        <td>Perform the following tasks in your own time:<br/>\n",
    "        <ol style=\"list-style-type: upper-alpha;\">\n",
    "            <li>Complete the unfinished tasks.</li>\n",
    "            <li>Change the model by incorporating the reuploading ansatz (see Session 1).</li>\n",
    "            <li>Incorporate custom initialisation of your model (research).</li>\n",
    "            <li>Apply your completed model to the <strong><em>Sonar</em></strong> data set 2<br>\n",
    "                - see example at the end of the notebook</li>\n",
    "        </ol></td>\n",
    "    </tr>\n",
    "    <tr><td><strong>References:</strong></td>\n",
    "        <td><ul>\n",
    "            <li><a href = \"https://www.youtube.com/watch?v=OIenNRt2bjg\" target=\"_blank\">\n",
    "                AssemblyAI, “PyTorch Crash Course - Getting Started with Deep Learning”,<br>YouTube Video, Jul 2022.</a></li>\n",
    "            <li><a href = \"https://pennylane.ai/qml/demos/tutorial_qnn_module_torch\" target=\"_blank\">Thomas Bromley, \"Turning quantum nodes into Torch Layers\",<br>\n",
    "                PennyLane Demo, October 7, 2024.</a></li>\n",
    "            <li><a href = \"https://docs.pennylane.ai/en/stable/code/api/pennylane.qnn.TorchLayer.html\" target=\"_blank\">PennyLane, \"qml.qnn.TorchLayer\",<br>\n",
    "                PennyLane Documentation, Code API, 2025.</a></li>\n",
    "            <li><a href = \"https://pennylane.ai/qml/demos/tutorial_local_cost_functions\" target=\"_blank\">Thomas Storwick, \"Alleviating barren plateaus with local cost functions\",<br>\n",
    "                PennyLane Tutorial, November 6, 2024.</a></li>\n",
    "        </ul></td>\n",
    "    </tr>\n",
    "    <tr><td><strong>License:</strong></td>\n",
    "        <td>This project is licensed under the\n",
    "            <a href=\"https://creativecommons.org/licenses/by/4.0/\" target=\"_blank\">Creative Commons CC-BY</a></td></tr>\n",
    "    <tr><td><strong>Changes:</strong></td>\n",
    "        <td>All significant changes to this code must be listed at the bottom of this notebook</td></tr>\n",
    "</table>"
   ]
  },
  {
   "cell_type": "markdown",
   "id": "5715a135-8768-4fac-9373-072ffd8039a1",
   "metadata": {},
   "source": [
    "## Libraries"
   ]
  },
  {
   "cell_type": "code",
   "execution_count": 2,
   "id": "7c92610b-6d3a-45cb-9c29-487523799255",
   "metadata": {},
   "outputs": [
    {
     "data": {
      "text/plain": [
       "['/home/jacob/miniconda3/lib/python311.zip',\n",
       " '/home/jacob/miniconda3/lib/python3.11',\n",
       " '/home/jacob/miniconda3/lib/python3.11/lib-dynload',\n",
       " '',\n",
       " '/home/jacob/venv/plx/lib/python3.11/site-packages',\n",
       " '.']"
      ]
     },
     "execution_count": 2,
     "metadata": {},
     "output_type": "execute_result"
    }
   ],
   "source": [
    "import sys\n",
    "sys.path.append('.')\n",
    "sys.path"
   ]
  },
  {
   "cell_type": "code",
   "execution_count": 3,
   "id": "e4a6dcc2-2992-43ea-9ce7-925124df72bb",
   "metadata": {},
   "outputs": [],
   "source": [
    "### General libraries\n",
    "\n",
    "import os\n",
    "import pylab\n",
    "import math\n",
    "import time\n",
    "import copy\n",
    "import pandas as pd\n",
    "from IPython.display import clear_output\n",
    "\n",
    "import matplotlib.pyplot as plt\n",
    "from matplotlib import set_loglevel\n",
    "set_loglevel(\"warning\")\n",
    "\n",
    "import warnings\n",
    "warnings.filterwarnings(\"ignore\")\n",
    "\n",
    "%matplotlib inline"
   ]
  },
  {
   "cell_type": "code",
   "execution_count": 4,
   "id": "d7369b15-1a33-4e1c-ba8b-11dcae8d5650",
   "metadata": {},
   "outputs": [],
   "source": [
    "### Import utilities\n",
    "from utilities import multi_plot_hist, multi_plot_series, draw_circuit"
   ]
  },
  {
   "cell_type": "code",
   "execution_count": 5,
   "id": "48b72711-f1e8-4db4-a8cb-b8edbcb30a4e",
   "metadata": {},
   "outputs": [],
   "source": [
    "### Import PennyLane and Torch\n",
    "import pennylane as qml\n",
    "from pennylane import numpy as np\n",
    "from pennylane import NesterovMomentumOptimizer\n",
    "from torch import nn\n",
    "from torch.autograd import Variable\n",
    "import torch"
   ]
  },
  {
   "cell_type": "markdown",
   "id": "89bcfa81-0192-4b65-b7a6-a50c4c9184a7",
   "metadata": {},
   "source": [
    "---"
   ]
  },
  {
   "cell_type": "markdown",
   "id": "c14d8243-f35f-4289-ba52-58c59e0634ba",
   "metadata": {},
   "source": [
    "## <font color=\"blue\">Data preparation</font>\n",
    "<font color=\"LightCoral\">Task 1: Follow the instructor demonstration to step through the code.</font>"
   ]
  },
  {
   "cell_type": "markdown",
   "id": "b2a77624-a252-408f-a39a-58acabc33a2f",
   "metadata": {},
   "source": [
    "Selected dataset: <a href=\"https://archive.ics.uci.edu/dataset/10/automobile\" target=\"_blank\">Automobiles</a>.\n",
    "  \n",
    "<font color=\"CornflowerBlue\">_**Data needs to be prepared as follows:**_</font>\n",
    "\n",
    "- <font color=\"CornflowerBlue\">*Load and understand data*</font>\n",
    "- <font color=\"CornflowerBlue\">*Select numerical variables only (make it simple)*</font>\n",
    "- <font color=\"CornflowerBlue\">*Eliminate missing values*</font>\n",
    "- <font color=\"CornflowerBlue\">*Prepare the label (change it to binary)*</font>\n",
    "- <font color=\"CornflowerBlue\">*Standardise predictors*</font>\n",
    "- <font color=\"CornflowerBlue\">*Reduce dimensionality*</font>\n",
    "\n",
    "<font color=\"CornflowerBlue\">Note that for brevity of this demonstration we will apply data processing to the entire dataset rather than the training and test sets separately.</font>"
   ]
  },
  {
   "cell_type": "code",
   "execution_count": 6,
   "id": "6b08879d-cc3b-4b7b-972a-d60c2e2117d8",
   "metadata": {},
   "outputs": [],
   "source": [
    "### Dataset settings\n",
    "#   Decide how many data features to be modelled (will be transformed)\n",
    "n_features = 5\n",
    "data_seed = 42"
   ]
  },
  {
   "cell_type": "markdown",
   "id": "e0b9e70b-5fcb-4930-8f82-f3d485271ee0",
   "metadata": {},
   "source": [
    "### Load and understand data"
   ]
  },
  {
   "cell_type": "code",
   "execution_count": 7,
   "id": "05ab86be-f486-46ca-b35b-3673906f2cff",
   "metadata": {},
   "outputs": [
    {
     "name": "stdout",
     "output_type": "stream",
     "text": [
      "This data set consists of three types of entities: (a) the specification of an auto in terms of various characteristics, (b) its assigned insurance risk rating, (c) its normalized losses in use as compared to other cars.  The second rating corresponds to the degree to which the auto is more risky than its price indicates. Cars are initially assigned a risk factor symbol associated with its price.   Then, if it is more risky (or less), this symbol is adjusted by moving it up (or down) the scale.  Actuarians call this process \"symboling\".  A value of +3 indicates that the auto is risky, -3 that it is probably pretty safe.\n",
      "\n",
      "The third factor is the relative average loss payment per insured vehicle year.  This value is normalized for all autos within a particular size classification (two-door small, station wagons, sports/speciality, etc...), and represents the average loss per car per year.\n",
      "\n",
      "Note: Several of the attributes in the database could be used as a \"class\" attribute. \n",
      "\n"
     ]
    }
   ],
   "source": [
    "from ucimlrepo import fetch_ucirepo\n",
    "\n",
    "auto = fetch_ucirepo(id=10)\n",
    "X_vars = auto.data.features \n",
    "y_class = auto.data.targets \n",
    "print(auto.metadata['additional_info']['summary'],'\\n') "
   ]
  },
  {
   "cell_type": "code",
   "execution_count": 8,
   "id": "eff3b902-2d26-4e6f-81a8-99a243cbca69",
   "metadata": {},
   "outputs": [
    {
     "data": {
      "text/html": [
       "<div>\n",
       "<style scoped>\n",
       "    .dataframe tbody tr th:only-of-type {\n",
       "        vertical-align: middle;\n",
       "    }\n",
       "\n",
       "    .dataframe tbody tr th {\n",
       "        vertical-align: top;\n",
       "    }\n",
       "\n",
       "    .dataframe thead th {\n",
       "        text-align: right;\n",
       "    }\n",
       "</style>\n",
       "<table border=\"1\" class=\"dataframe\">\n",
       "  <thead>\n",
       "    <tr style=\"text-align: right;\">\n",
       "      <th></th>\n",
       "      <th>price</th>\n",
       "      <th>highway-mpg</th>\n",
       "      <th>city-mpg</th>\n",
       "      <th>peak-rpm</th>\n",
       "      <th>horsepower</th>\n",
       "      <th>compression-ratio</th>\n",
       "      <th>stroke</th>\n",
       "      <th>bore</th>\n",
       "      <th>fuel-system</th>\n",
       "      <th>engine-size</th>\n",
       "      <th>...</th>\n",
       "      <th>length</th>\n",
       "      <th>wheel-base</th>\n",
       "      <th>engine-location</th>\n",
       "      <th>drive-wheels</th>\n",
       "      <th>body-style</th>\n",
       "      <th>num-of-doors</th>\n",
       "      <th>aspiration</th>\n",
       "      <th>fuel-type</th>\n",
       "      <th>make</th>\n",
       "      <th>normalized-losses</th>\n",
       "    </tr>\n",
       "  </thead>\n",
       "  <tbody>\n",
       "    <tr>\n",
       "      <th>0</th>\n",
       "      <td>13495.0</td>\n",
       "      <td>27</td>\n",
       "      <td>21</td>\n",
       "      <td>5000.0</td>\n",
       "      <td>111.0</td>\n",
       "      <td>9.0</td>\n",
       "      <td>2.68</td>\n",
       "      <td>3.47</td>\n",
       "      <td>mpfi</td>\n",
       "      <td>130</td>\n",
       "      <td>...</td>\n",
       "      <td>168.8</td>\n",
       "      <td>88.6</td>\n",
       "      <td>front</td>\n",
       "      <td>rwd</td>\n",
       "      <td>convertible</td>\n",
       "      <td>2.0</td>\n",
       "      <td>std</td>\n",
       "      <td>gas</td>\n",
       "      <td>alfa-romero</td>\n",
       "      <td>NaN</td>\n",
       "    </tr>\n",
       "    <tr>\n",
       "      <th>1</th>\n",
       "      <td>16500.0</td>\n",
       "      <td>27</td>\n",
       "      <td>21</td>\n",
       "      <td>5000.0</td>\n",
       "      <td>111.0</td>\n",
       "      <td>9.0</td>\n",
       "      <td>2.68</td>\n",
       "      <td>3.47</td>\n",
       "      <td>mpfi</td>\n",
       "      <td>130</td>\n",
       "      <td>...</td>\n",
       "      <td>168.8</td>\n",
       "      <td>88.6</td>\n",
       "      <td>front</td>\n",
       "      <td>rwd</td>\n",
       "      <td>convertible</td>\n",
       "      <td>2.0</td>\n",
       "      <td>std</td>\n",
       "      <td>gas</td>\n",
       "      <td>alfa-romero</td>\n",
       "      <td>NaN</td>\n",
       "    </tr>\n",
       "    <tr>\n",
       "      <th>2</th>\n",
       "      <td>16500.0</td>\n",
       "      <td>26</td>\n",
       "      <td>19</td>\n",
       "      <td>5000.0</td>\n",
       "      <td>154.0</td>\n",
       "      <td>9.0</td>\n",
       "      <td>3.47</td>\n",
       "      <td>2.68</td>\n",
       "      <td>mpfi</td>\n",
       "      <td>152</td>\n",
       "      <td>...</td>\n",
       "      <td>171.2</td>\n",
       "      <td>94.5</td>\n",
       "      <td>front</td>\n",
       "      <td>rwd</td>\n",
       "      <td>hatchback</td>\n",
       "      <td>2.0</td>\n",
       "      <td>std</td>\n",
       "      <td>gas</td>\n",
       "      <td>alfa-romero</td>\n",
       "      <td>NaN</td>\n",
       "    </tr>\n",
       "    <tr>\n",
       "      <th>3</th>\n",
       "      <td>13950.0</td>\n",
       "      <td>30</td>\n",
       "      <td>24</td>\n",
       "      <td>5500.0</td>\n",
       "      <td>102.0</td>\n",
       "      <td>10.0</td>\n",
       "      <td>3.40</td>\n",
       "      <td>3.19</td>\n",
       "      <td>mpfi</td>\n",
       "      <td>109</td>\n",
       "      <td>...</td>\n",
       "      <td>176.6</td>\n",
       "      <td>99.8</td>\n",
       "      <td>front</td>\n",
       "      <td>fwd</td>\n",
       "      <td>sedan</td>\n",
       "      <td>4.0</td>\n",
       "      <td>std</td>\n",
       "      <td>gas</td>\n",
       "      <td>audi</td>\n",
       "      <td>164.0</td>\n",
       "    </tr>\n",
       "    <tr>\n",
       "      <th>4</th>\n",
       "      <td>17450.0</td>\n",
       "      <td>22</td>\n",
       "      <td>18</td>\n",
       "      <td>5500.0</td>\n",
       "      <td>115.0</td>\n",
       "      <td>8.0</td>\n",
       "      <td>3.40</td>\n",
       "      <td>3.19</td>\n",
       "      <td>mpfi</td>\n",
       "      <td>136</td>\n",
       "      <td>...</td>\n",
       "      <td>176.6</td>\n",
       "      <td>99.4</td>\n",
       "      <td>front</td>\n",
       "      <td>4wd</td>\n",
       "      <td>sedan</td>\n",
       "      <td>4.0</td>\n",
       "      <td>std</td>\n",
       "      <td>gas</td>\n",
       "      <td>audi</td>\n",
       "      <td>164.0</td>\n",
       "    </tr>\n",
       "  </tbody>\n",
       "</table>\n",
       "<p>5 rows × 25 columns</p>\n",
       "</div>"
      ],
      "text/plain": [
       "     price  highway-mpg  city-mpg  peak-rpm  horsepower  compression-ratio  \\\n",
       "0  13495.0           27        21    5000.0       111.0                9.0   \n",
       "1  16500.0           27        21    5000.0       111.0                9.0   \n",
       "2  16500.0           26        19    5000.0       154.0                9.0   \n",
       "3  13950.0           30        24    5500.0       102.0               10.0   \n",
       "4  17450.0           22        18    5500.0       115.0                8.0   \n",
       "\n",
       "   stroke  bore fuel-system  engine-size  ...  length wheel-base  \\\n",
       "0    2.68  3.47        mpfi          130  ...   168.8       88.6   \n",
       "1    2.68  3.47        mpfi          130  ...   168.8       88.6   \n",
       "2    3.47  2.68        mpfi          152  ...   171.2       94.5   \n",
       "3    3.40  3.19        mpfi          109  ...   176.6       99.8   \n",
       "4    3.40  3.19        mpfi          136  ...   176.6       99.4   \n",
       "\n",
       "   engine-location  drive-wheels   body-style  num-of-doors  aspiration  \\\n",
       "0            front           rwd  convertible           2.0         std   \n",
       "1            front           rwd  convertible           2.0         std   \n",
       "2            front           rwd    hatchback           2.0         std   \n",
       "3            front           fwd        sedan           4.0         std   \n",
       "4            front           4wd        sedan           4.0         std   \n",
       "\n",
       "  fuel-type         make normalized-losses  \n",
       "0       gas  alfa-romero               NaN  \n",
       "1       gas  alfa-romero               NaN  \n",
       "2       gas  alfa-romero               NaN  \n",
       "3       gas         audi             164.0  \n",
       "4       gas         audi             164.0  \n",
       "\n",
       "[5 rows x 25 columns]"
      ]
     },
     "execution_count": 8,
     "metadata": {},
     "output_type": "execute_result"
    }
   ],
   "source": [
    "X_vars.head(5)"
   ]
  },
  {
   "cell_type": "markdown",
   "id": "eee38037-4d73-49dc-9d6e-43245c01bd6c",
   "metadata": {},
   "source": [
    "<br>\n",
    "<font color=\"LightCoral\">Task 2: Investigate data preparation and its impact on the process and results.</font><br>\n",
    "\n",
    "- <font color=\"LightCoral\">Explore the data set and improve data preparation</font>\n",
    "- <font color=\"LightCoral\">Consider data ordering and what needs to be done about it</font>"
   ]
  },
  {
   "cell_type": "markdown",
   "id": "d3a1e9dd-ac0b-4f85-a868-5f6b5c72ab74",
   "metadata": {},
   "source": [
    "### Preliminary data processing"
   ]
  },
  {
   "cell_type": "code",
   "execution_count": 9,
   "id": "a1900ab3-ab69-40ff-80fe-f44607feaae4",
   "metadata": {},
   "outputs": [],
   "source": [
    "### After a brief investigation, it is evident that ...\n",
    "#   this data set is ordered by the class variable \"symboling\" (risk)\n",
    "#   therefore X and y need to be shuffled before model training.\n",
    "\n",
    "np.random.seed(data_seed)\n",
    "idx = np.random.permutation(X_vars.index)\n",
    "X_vars = X_vars.reindex(idx)\n",
    "X_vars.index = list(range(X_vars.shape[0]))\n",
    "y_class = y_class.reindex(idx)\n",
    "y_class.index = list(range(y_class.shape[0]))"
   ]
  },
  {
   "cell_type": "markdown",
   "id": "85378e8f-cfbf-42d1-b61b-9cf49e93b377",
   "metadata": {},
   "source": [
    "### Select numerical predictors only"
   ]
  },
  {
   "cell_type": "code",
   "execution_count": 10,
   "id": "6076c2af-cb5e-4d97-948b-48a882d36987",
   "metadata": {},
   "outputs": [
    {
     "data": {
      "text/plain": [
       "Index(['price', 'highway-mpg', 'city-mpg', 'peak-rpm', 'horsepower',\n",
       "       'compression-ratio', 'stroke', 'bore', 'engine-size',\n",
       "       'num-of-cylinders', 'curb-weight', 'height', 'width', 'length',\n",
       "       'wheel-base', 'num-of-doors', 'normalized-losses'],\n",
       "      dtype='object')"
      ]
     },
     "execution_count": 10,
     "metadata": {},
     "output_type": "execute_result"
    }
   ],
   "source": [
    "### Select numeric columns only\n",
    "X_sel = X_vars.select_dtypes(include=np.number)\n",
    "X_sel.columns"
   ]
  },
  {
   "cell_type": "markdown",
   "id": "b1a91a7e-82f3-4bc4-a279-8d7dc8ab33c6",
   "metadata": {},
   "source": [
    "### Deal with missing values"
   ]
  },
  {
   "cell_type": "code",
   "execution_count": 11,
   "id": "81d4f906-5079-4f70-98e5-da79ae021656",
   "metadata": {},
   "outputs": [
    {
     "data": {
      "text/plain": [
       "bore                  4\n",
       "horsepower            2\n",
       "normalized-losses    41\n",
       "num-of-doors          2\n",
       "peak-rpm              2\n",
       "price                 4\n",
       "stroke                4\n",
       "dtype: int64"
      ]
     },
     "execution_count": 11,
     "metadata": {},
     "output_type": "execute_result"
    }
   ],
   "source": [
    "### Identify columns with missing values\n",
    "X_sel.isna().sum().loc[lambda x : x > 0].sort_index()"
   ]
  },
  {
   "cell_type": "code",
   "execution_count": 12,
   "id": "69059e01-2df5-4eb7-ad81-71fa03d42e59",
   "metadata": {},
   "outputs": [
    {
     "data": {
      "text/plain": [
       "Series([], dtype: int64)"
      ]
     },
     "execution_count": 12,
     "metadata": {},
     "output_type": "execute_result"
    }
   ],
   "source": [
    "### Replace missing values with column mean\n",
    "#   Then check that missing values have been eliminated\n",
    "auto_xmean = X_sel.mean()\n",
    "X_sel = X_sel.fillna(auto_xmean)\n",
    "X_sel.isna().sum().loc[lambda x : x > 0]"
   ]
  },
  {
   "cell_type": "markdown",
   "id": "b0bcc207-f6b7-480b-9f7e-79ac49bdf4be",
   "metadata": {},
   "source": [
    "### Standardise predictors"
   ]
  },
  {
   "cell_type": "code",
   "execution_count": 13,
   "id": "4aaeb2fe-1af3-4854-92ed-22fe451f553b",
   "metadata": {},
   "outputs": [],
   "source": [
    "# Standardise all variables\n",
    "from sklearn.preprocessing import StandardScaler, MinMaxScaler\n",
    "auto_scaler = MinMaxScaler(feature_range=(0, 1)) \n",
    "scaled = auto_scaler.fit_transform(X_sel) \n",
    "X_std = pd.DataFrame(scaled, columns=X_sel.columns)\n",
    "# multi_plot_hist(X_std, n_cols = 5, figsize=(8,5.5));"
   ]
  },
  {
   "cell_type": "markdown",
   "id": "42220627-0f98-4dfd-b48a-50c56be3b57d",
   "metadata": {},
   "source": [
    "### Prepare the label\n",
    "<font color=\"CornflowerBlue\">As the label is numeric and multi-class, to simplify the task we turn the label into a binary variable.<br>\n",
    "The binary class split will be around the distribution mean.</font>"
   ]
  },
  {
   "cell_type": "code",
   "execution_count": 14,
   "id": "aa78c3e7-6291-4ad5-a016-195138c22aed",
   "metadata": {},
   "outputs": [
    {
     "data": {
      "image/png": "[encoded data removed]",
      "text/plain": [
       "<Figure size 300x250 with 1 Axes>"
      ]
     },
     "metadata": {},
     "output_type": "display_data"
    }
   ],
   "source": [
    "### Observe label distribution\n",
    "auto_ymean = y_class[\"symboling\"].mean()\n",
    "ax = y_class.plot.hist(bins=6, alpha=0.5, title=f'Insurance Risk (mean={round(auto_ymean, 3)})', \n",
    "                       figsize=(3,2.5))\n",
    "ax.get_legend().remove()\n",
    "plt.axvline(auto_ymean, color='k', linestyle='-.', linewidth=0.5);"
   ]
  },
  {
   "cell_type": "code",
   "execution_count": 15,
   "id": "a6ffa5e5-24a3-42aa-8591-ace9d6130a1c",
   "metadata": {},
   "outputs": [
    {
     "data": {
      "image/png": "[encoded data removed]",
      "text/plain": [
       "<Figure size 250x250 with 1 Axes>"
      ]
     },
     "metadata": {},
     "output_type": "display_data"
    }
   ],
   "source": [
    "### Create a binary label\n",
    "pd.set_option('display.max_rows', 10)\n",
    "y_std = pd.DataFrame(y_class)\n",
    "y_std['symboling'] = np.where(y_std['symboling'] > auto_ymean, 1, 0)\n",
    "y_binmean = y_std[\"symboling\"].mean()\n",
    "\n",
    "ax = y_std.plot.hist(bins=2, alpha=0.5, title=f'Insurance Risk (mean={np.round(y_binmean, 3)})', \n",
    "                 figsize=(2.5,2.5))\n",
    "ax.set_xlabel(f'{y_std.columns[0]} (safe=0, risky=1)')\n",
    "ax.get_legend().remove()\n",
    "plt.axvline(y_binmean, color='k', linestyle='-.', linewidth=0.5);"
   ]
  },
  {
   "cell_type": "markdown",
   "id": "a04ca9f3-bb92-4130-b850-077ce7beacd8",
   "metadata": {},
   "source": [
    "### Reduce data dimensionality\n",
    "Note that we should somehow reduce data dimensionality."
   ]
  },
  {
   "cell_type": "code",
   "execution_count": 16,
   "id": "7880b10d-8daf-42b2-ad1f-65af0935cab6",
   "metadata": {},
   "outputs": [
    {
     "name": "stdout",
     "output_type": "stream",
     "text": [
      "\n",
      "Number of features available: 17\n",
      "Number of features to select: 5\n",
      "\n",
      "Features: ('price', 'highway-mpg', 'city-mpg', 'peak-rpm', 'horsepower', 'compression-ratio', 'stroke', 'bore', 'engine-size', 'num-of-cylinders', 'curb-weight', 'height', 'width', 'length', 'wheel-base', 'num-of-doors', 'normalized-losses')\n"
     ]
    }
   ],
   "source": [
    "### The number of features to select\n",
    "col_names = list(X_std.columns)\n",
    "print(f'\\nNumber of features available: {X_std.shape[1]}\\n'+\\\n",
    "      f'Number of features to select: {n_features}\\n\\n'+\\\n",
    "      f'Features: {*col_names,}')"
   ]
  },
  {
   "cell_type": "markdown",
   "id": "b93afd76-d78d-4b34-8b05-1384e6334272",
   "metadata": {},
   "source": [
    "#### Feature selection based on intuition"
   ]
  },
  {
   "cell_type": "code",
   "execution_count": 17,
   "id": "48028078-a835-46c0-be30-6749b6c3e8f7",
   "metadata": {},
   "outputs": [
    {
     "data": {
      "text/plain": [
       "Index(['price', 'highway-mpg', 'city-mpg', 'peak-rpm', 'horsepower'], dtype='object')"
      ]
     },
     "execution_count": 17,
     "metadata": {},
     "output_type": "execute_result"
    }
   ],
   "source": [
    "X_hunch = X_std[['price', 'highway-mpg', 'city-mpg', 'peak-rpm', 'horsepower']]\n",
    "X_hunch.columns"
   ]
  },
  {
   "cell_type": "markdown",
   "id": "7f55c99e-ca4e-4bf0-8197-1c5bc6a64096",
   "metadata": {},
   "source": [
    "#### Feature selection by $\\chi^2$ (chi2)"
   ]
  },
  {
   "cell_type": "code",
   "execution_count": 18,
   "id": "80577c62-0a8b-43bc-9c42-dd7bf9a34975",
   "metadata": {},
   "outputs": [
    {
     "data": {
      "text/plain": [
       "Index(['curb-weight', 'height', 'length', 'wheel-base', 'num-of-doors'], dtype='object')"
      ]
     },
     "execution_count": 18,
     "metadata": {},
     "output_type": "execute_result"
    }
   ],
   "source": [
    "from sklearn.feature_selection import SelectKBest, chi2\n",
    "\n",
    "# Feature extraction\n",
    "selector = SelectKBest(score_func=chi2, k=n_features)\n",
    "X_ext = selector.fit_transform(X_std, y_std)\n",
    "\n",
    "# Identify selected features\n",
    "columns_mask = selector.get_support()\n",
    "sel_features = X_std.columns[columns_mask]\n",
    "X_kbest = pd.DataFrame(data = X_ext, columns = sel_features)\n",
    "X_kbest.columns"
   ]
  },
  {
   "cell_type": "markdown",
   "id": "a176e0c0-89b2-48a3-875e-1e7a0668ede1",
   "metadata": {},
   "source": [
    "#### Dimensionality reduction with PCA"
   ]
  },
  {
   "cell_type": "code",
   "execution_count": 19,
   "id": "e7977cf2-3df6-4bba-898e-7d1f28f428a0",
   "metadata": {},
   "outputs": [
    {
     "name": "stdout",
     "output_type": "stream",
     "text": [
      "Explained var = 0.869\n"
     ]
    },
    {
     "data": {
      "text/plain": [
       "Index(['PC00', 'PC01', 'PC02', 'PC03', 'PC04'], dtype='object')"
      ]
     },
     "execution_count": 19,
     "metadata": {},
     "output_type": "execute_result"
    }
   ],
   "source": [
    "from sklearn.decomposition import PCA\n",
    "\n",
    "n_components = n_features\n",
    "auto_pca = PCA(n_components=n_components)\n",
    "X_pca = auto_pca.fit_transform(X_std)\n",
    "X_pca = pd.DataFrame(X_pca, columns=[f'PC{n:02d}' for n in range(X_pca.shape[1])])\n",
    "pca_var = auto_pca.explained_variance_ratio_\n",
    "print(f'Explained var = {np.sum(pca_var):02.3f}')\n",
    "X_pca.columns"
   ]
  },
  {
   "cell_type": "markdown",
   "id": "cc2551d2-16ea-4cb7-8e9a-de3c5feb3634",
   "metadata": {},
   "source": [
    "#### Select an approach to dimensionality reduction\n",
    "<font color=\"CornflowerBlue\">Select the method of dimensionality reduction by copying the required version of X.<br>\n",
    "All versions have been defined above.</font>"
   ]
  },
  {
   "cell_type": "code",
   "execution_count": 20,
   "id": "5a6274d0-9972-4c68-bc70-88441aaeb288",
   "metadata": {},
   "outputs": [],
   "source": [
    "X = X_pca.copy()\n",
    "y = y_std.copy()"
   ]
  },
  {
   "cell_type": "markdown",
   "id": "401b2eb3-dbb7-4be5-aac6-dde992cc85e3",
   "metadata": {},
   "source": [
    "***"
   ]
  },
  {
   "cell_type": "markdown",
   "id": "d94daa63-93e2-4224-83d5-341938e24972",
   "metadata": {},
   "source": [
    "## <font color=\"blue\">Model development</font>"
   ]
  },
  {
   "cell_type": "markdown",
   "id": "cb56c203-2865-4b9d-a538-8fbbd48a00b4",
   "metadata": {},
   "source": [
    "### Utilities"
   ]
  },
  {
   "cell_type": "code",
   "execution_count": 21,
   "id": "e6a5e3f9-0150-4cbe-b8ad-2f9d6bab54c5",
   "metadata": {},
   "outputs": [],
   "source": [
    "### Performance measures\n",
    "\n",
    "### A simple MSE cost function\n",
    "def square_mse(labels, predictions):\n",
    "    sq_diffs = torch.tensor([(l - p)**2 for l, p in zip(labels, predictions)])\n",
    "    return sq_diffs.mean().item()\n",
    "\n",
    "### Calculates accuracy from expval predictions\n",
    "def accuracy(labels, predictions, prec=1e-5):\n",
    "    acc = sum(abs(l - p) < prec for l, p in zip(labels, predictions))\n",
    "    acc = acc / len(labels)\n",
    "    return acc.item()\n",
    "\n",
    "### Counts the number of pytorch model parameters\n",
    "def count_params(model):\n",
    "    return sum(p.numel() for p in model.parameters() if p.requires_grad)"
   ]
  },
  {
   "cell_type": "markdown",
   "id": "2d889de9-4ec1-4ccd-80ed-1adf9f6f3ab8",
   "metadata": {},
   "source": [
    "### Define device to compute on"
   ]
  },
  {
   "cell_type": "code",
   "execution_count": 22,
   "id": "b8e37dda-85ae-46f8-805a-a9c48e7bb74e",
   "metadata": {},
   "outputs": [
    {
     "name": "stdout",
     "output_type": "stream",
     "text": [
      "\n",
      "The available devices:\tlightning.qubit and cpu\n",
      "Devices to be used:\tlightning.qubit and cpu\n",
      "\n"
     ]
    }
   ],
   "source": [
    "### Find what devices are available\n",
    "\n",
    "# Quantum simulator\n",
    "sim = 'lightning.qubit' # default.qubit lightning.qubit lightning.gpu\n",
    "\n",
    "# Enable CUDA device if available\n",
    "torch_device = torch.device(\"cuda:0\" if torch.cuda.is_available() else \"cpu\")\n",
    "print(f'\\nThe available devices:\\t{sim} and {torch_device}')\n",
    "\n",
    "# Force CPU to avoid moving computation and data back and from the GPU\n",
    "torch_device = \"cpu\"\n",
    "\n",
    "print(f'Devices to be used:\\t{sim} and {torch_device}\\n')"
   ]
  },
  {
   "cell_type": "markdown",
   "id": "08bfba56-91d4-499a-befd-d3b37588c06f",
   "metadata": {},
   "source": [
    "### Model and training configuration"
   ]
  },
  {
   "cell_type": "code",
   "execution_count": 23,
   "id": "874324ec-453f-4c8f-a6b4-b6c061a6371a",
   "metadata": {},
   "outputs": [],
   "source": [
    "### Data params\n",
    "n_data = X.shape[0]\n",
    "x_angle_margin = 0.1\n",
    "x_angle_min = 0+x_angle_margin\n",
    "x_angle_max = np.pi-x_angle_margin\n",
    "\n",
    "### Architectural params\n",
    "n_wires = n_data  # The model ansatz may have less data than wires\n",
    "n_layers = 5\n",
    "wires = list(range(n_wires))\n",
    "\n",
    "### Training params\n",
    "epochs = 100     # 50 # 80 # 100 # 300\n",
    "log_interv = 1   # History to be saved only once every interv or epochs\n",
    "acc_prec = 0.5   # Precision of accuracy calculation\n",
    "shots = None     # None means using theoretical frequency distribution \n",
    "seed = 2025"
   ]
  },
  {
   "cell_type": "markdown",
   "id": "0f3d1ed0-2fe6-43c8-bfbd-a922e460976e",
   "metadata": {},
   "source": [
    "### Prepare data for the quantum classifier"
   ]
  },
  {
   "cell_type": "markdown",
   "id": "0842786b-03c3-401a-a483-516d68400fdb",
   "metadata": {},
   "source": [
    "<font color=\"CornflowerBlue\">Note that we have already scaled the X values to the [0..1] range.<br>\n",
    "That value range was needed to perform PCA, if this dimensionality reduction was to be used.<br>\n",
    "We could not scale X to the range of values [0..pi] as required for quantum data encoding,<br>\n",
    "as PCA would have changed that range later on.</font>"
   ]
  },
  {
   "cell_type": "code",
   "execution_count": 24,
   "id": "83900794-4f94-43dc-82ce-48bdd44a7656",
   "metadata": {},
   "outputs": [],
   "source": [
    "### Standardise X values to the range 0+margin..pi-margin\n",
    "from sklearn.preprocessing import StandardScaler, MinMaxScaler\n",
    "angle_scaler = MinMaxScaler(feature_range=(x_angle_min, x_angle_max)) \n",
    "scaled = angle_scaler.fit_transform(X) \n",
    "X = pd.DataFrame(scaled, columns=X.columns)"
   ]
  },
  {
   "cell_type": "code",
   "execution_count": 25,
   "id": "204b242b-c9c1-4f8f-a5e7-00f9a396f68a",
   "metadata": {},
   "outputs": [
    {
     "name": "stdout",
     "output_type": "stream",
     "text": [
      "Shapes: X_train=(137, 5), X_test=(68, 5), y_train=(137, 1), y_test=(68, 1)\n"
     ]
    }
   ],
   "source": [
    "### Create data partitions, data has been shuffled before\n",
    "from sklearn.model_selection import train_test_split\n",
    "X_train, X_test, y_train, y_test = train_test_split(X.iloc[:,0:n_data], y.iloc[:,0:n_data], \n",
    "    test_size=0.33, shuffle=False, random_state=seed)\n",
    "print(f'Shapes: X_train={X_train.shape}, X_test={X_test.shape}, y_train={y_train.shape}, y_test={y_test.shape}')"
   ]
  },
  {
   "cell_type": "code",
   "execution_count": 26,
   "id": "ab85dc0d-fb4a-4d6f-b0d2-5b6cad51785d",
   "metadata": {},
   "outputs": [],
   "source": [
    "### Change the data format to tensors\n",
    "X_train_tens = torch.tensor(np.array(X_train), dtype=torch.double)\n",
    "y_train_tens = torch.tensor(np.array(y_train), dtype=torch.double)\n",
    "X_test_tens  = torch.tensor(np.array(X_test), dtype=torch.double)\n",
    "y_test_tens  = torch.tensor(np.array(y_test), dtype=torch.double)"
   ]
  },
  {
   "cell_type": "markdown",
   "id": "ed9f235f-17d4-4773-8511-ce207f125105",
   "metadata": {},
   "source": [
    "### PennyLane model"
   ]
  },
  {
   "cell_type": "code",
   "execution_count": 27,
   "id": "d0e5ebf3-0818-475a-88c8-f3546420bfbf",
   "metadata": {},
   "outputs": [],
   "source": [
    "### Define a simple quantum model\n",
    "def qmodel(n_wires):\n",
    "    wires = list(range(n_wires))\n",
    "    def _qmodel(inputs, weights):\n",
    "        nonlocal wires, n_wires #, meas_wires\n",
    "        qml.AngleEmbedding(inputs, wires=wires)        \n",
    "        qml.StronglyEntanglingLayers(weights, wires=wires)\n",
    "        return [qml.expval(qml.PauliZ(0))]\n",
    "    return _qmodel"
   ]
  },
  {
   "cell_type": "code",
   "execution_count": 28,
   "id": "9cf809bb-1393-4949-a3c0-a6f243c67524",
   "metadata": {},
   "outputs": [],
   "source": [
    "### Check the model shape\n",
    "def qshape(n_wires, n_layers=1):\n",
    "    shape = qml.StronglyEntanglingLayers.shape(n_layers=n_layers, n_wires=n_wires)\n",
    "    return shape"
   ]
  },
  {
   "cell_type": "markdown",
   "id": "fd7e84f7-ba14-4893-a5c1-e967db699024",
   "metadata": {},
   "source": [
    "### PyTorch model with PennyLane layer"
   ]
  },
  {
   "cell_type": "markdown",
   "id": "521e4402-a9c7-4055-8d3d-05e5e11ffa21",
   "metadata": {},
   "source": [
    "<font color=\"CornflowerBlue\">To use PennyLane Torch layers refer to the \n",
    "<a href=\"https://docs.pennylane.ai/en/stable/code/api/pennylane.qnn.TorchLayer.html\" target=\"_blank\">TorchLayer PennyLane API</a>\n",
    "as well as <a href = \"https://pennylane.ai/qml/demos/tutorial_qnn_module_torch\" target=\"_blank\">Thomas Bromley tute on Torch layers</a>.</font>"
   ]
  },
  {
   "cell_type": "code",
   "execution_count": 29,
   "id": "222fe23f-0a5b-4d7b-969c-39b9f6cbdad3",
   "metadata": {},
   "outputs": [],
   "source": [
    "### Create a PyTorch model with a PennyLane circuit within\n",
    "\n",
    "class Quantum_Auto(nn.Module):\n",
    "\n",
    "    def __init__(self, sim, n_wires, n_layers=1, shots=None):\n",
    "        super(Quantum_Auto, self).__init__()\n",
    "\n",
    "        self.sim = sim\n",
    "        self.n_wires = n_wires\n",
    "        self.n_layers = n_layers\n",
    "        self.shots = shots\n",
    "\n",
    "        # Wrap a torch layer around the PennyLane model\n",
    "        layers = [self.layers()]\n",
    "        self.model_pt = nn.Sequential(*layers)  \n",
    "\n",
    "    ### Define a quantum layer\n",
    "    def layers(self):\n",
    "        \n",
    "        # Specify a device\n",
    "        dev = qml.device(self.sim, wires=self.n_wires, shots=self.shots)\n",
    "\n",
    "        # Define the quantum model and its circuit (or node, save it for later)\n",
    "        model_pl = qmodel(self.n_wires)\n",
    "        self.model_qc = qml.QNode(model_pl, dev, interface='torch')\n",
    "\n",
    "        # Define the shape of the model weight parameters\n",
    "        # Note that the name \"weights\" must match the param name defined in function \n",
    "        # \"model_pl\" which in our case is _qmodel(inputs, weights)\n",
    "        weights_shapes = {\"weights\": qshape(self.n_wires, n_layers=self.n_layers)}\n",
    "\n",
    "        # Turn the circuit into a Torch-compatible quantum layer\n",
    "        qlayer = qml.qnn.TorchLayer(self.model_qc, weight_shapes=weights_shapes)\n",
    "        return qlayer\n",
    "\n",
    "    ### Return the quantum model circuit\n",
    "    def qmodel_qc(self):\n",
    "        return self.model_qc\n",
    " \n",
    "    ### Apply the model to data (forward step)\n",
    "    def forward(self, x):\n",
    "        y = self.model_pt(x)\n",
    "        return y"
   ]
  },
  {
   "cell_type": "markdown",
   "id": "5cb64ee8-fde7-4c46-8322-9a424e327352",
   "metadata": {},
   "source": [
    "### Test the PennyLane/PyTorch model before use"
   ]
  },
  {
   "cell_type": "code",
   "execution_count": 30,
   "id": "c96e1c4d-a7ef-4fcc-84d6-4c638db39dcc",
   "metadata": {},
   "outputs": [
    {
     "name": "stdout",
     "output_type": "stream",
     "text": [
      "\n",
      "QM weights: 75, Epochs: 100\n",
      "\n",
      "Test results: tensor([[-0.1083],\n",
      "        [-0.2885],\n",
      "        [-0.2278],\n",
      "        [-0.2274],\n",
      "        [ 0.0392]], dtype=torch.float64, grad_fn=<ViewBackward0>)\n",
      "\n"
     ]
    },
    {
     "data": {
      "text/plain": [
       "Quantum_Auto(\n",
       "  (model_pt): Sequential(\n",
       "    (0): <Quantum Torch Layer: func=_qmodel>\n",
       "  )\n",
       ")"
      ]
     },
     "execution_count": 30,
     "metadata": {},
     "output_type": "execute_result"
    }
   ],
   "source": [
    "### Create a test model and draw the test model circuit\n",
    "test = Quantum_Auto(sim, X_train_tens.shape[1], n_layers=n_layers, shots=shots).double().to(torch_device)\n",
    "shape = qshape(X_train_tens.shape[1], n_layers)\n",
    "n_weights = np.prod(shape)\n",
    "\n",
    "print(f'\\nQM weights: {count_params(test)}, Epochs: {epochs}')\n",
    "print(f'\\nTest results: {test(X_train_tens[0:5])}\\n')\n",
    "\n",
    "### Show the structure of the torch model\n",
    "test.eval()"
   ]
  },
  {
   "cell_type": "code",
   "execution_count": 31,
   "id": "e28a2f3a-14ea-4980-8cea-d9f5bdc642fb",
   "metadata": {},
   "outputs": [
    {
     "data": {
      "image/png": "[encoded data removed]",
      "text/plain": [
       "<Figure size 2100x300 with 1 Axes>"
      ]
     },
     "metadata": {},
     "output_type": "display_data"
    }
   ],
   "source": [
    "### Draw the test model circuit\n",
    "weights = torch.rand(shape, requires_grad=True)\n",
    "draw_circuit(test.qmodel_qc(), scale=0.5, title='Quantum circuit to be used in this notebook', level='device') \\\n",
    "    (X_train_tens[0], weights) # level='device'/'gradient'"
   ]
  },
  {
   "cell_type": "markdown",
   "id": "d1fc3801-89f0-4f1e-a479-0dc9e9c9aa25",
   "metadata": {},
   "source": [
    "### Creation and training of the PennyLane/PyTorch model"
   ]
  },
  {
   "cell_type": "code",
   "execution_count": 32,
   "id": "8e9a647b-8431-488d-8bcb-fbbb8d788ee5",
   "metadata": {},
   "outputs": [],
   "source": [
    "### Trains a PyTorch model (of any kind)\n",
    "\n",
    "def train_model(model, X, y, cost_fun, acc_fun, optimizer, epochs, \n",
    "                log_interv=100, prompt_fract=0.1, acc_prec=0.5, start_time=0):\n",
    "    \n",
    "    history = []\n",
    "    acc_hist = []\n",
    "    opt_params = {}\n",
    "    hist_params = []\n",
    "    min_epoch = 0\n",
    "    min_cost = 1000\n",
    "    max_acc = -1000\n",
    "    if start_time == 0: start_time = time.time()\n",
    "    \n",
    "    model.train()\n",
    "    for epoch in range(epochs):\n",
    "        \n",
    "        optimizer.zero_grad()\n",
    "        output = model(X)\n",
    "        cost = cost_fun(y, output)\n",
    "        acc = acc_fun(y, output, prec=acc_prec)\n",
    "        cost.backward()\n",
    "        optimizer.step()\n",
    "\n",
    "        curr_cost = cost.item()\n",
    "        curr_acc = acc\n",
    "        if curr_cost < min_cost: \n",
    "            min_cost = curr_cost\n",
    "            min_epoch = epoch\n",
    "            opt_params = copy.deepcopy(model.state_dict())\n",
    "\n",
    "        if curr_acc > max_acc:\n",
    "            max_acc = curr_acc\n",
    "\n",
    "        if epoch % log_interv == 0:\n",
    "            history.append(curr_cost)\n",
    "            acc_hist.append(curr_acc)\n",
    "            hist_params.append(copy.deepcopy(model.state_dict()))\n",
    "\n",
    "        elapsed = time.time() - start_time\n",
    "        if (prompt_fract == 0) or (epoch % int(prompt_fract*epochs) == 0):\n",
    "            print(f'{epoch: 5d} '+ \\\n",
    "                  f'({elapsed:06.0f} sec): '+ \\\n",
    "                  f'Cost {curr_cost:6.4g}   '+ \\\n",
    "                  f'Acc {curr_acc:6.4g}')\n",
    "            \n",
    "    return history, acc_hist, opt_params, hist_params, (min_epoch, min_cost)"
   ]
  },
  {
   "cell_type": "markdown",
   "id": "cb0c79a3-14ce-4ac0-b7f0-f6ec358e271b",
   "metadata": {},
   "source": [
    "### Training loop"
   ]
  },
  {
   "cell_type": "code",
   "execution_count": 33,
   "id": "b87df9a5-21a3-4559-b524-291e560fa878",
   "metadata": {},
   "outputs": [
    {
     "name": "stdout",
     "output_type": "stream",
     "text": [
      "\n",
      "    0 (000001 sec): Cost 0.4294   Acc 0.4453\n",
      "   10 (000007 sec): Cost 0.2344   Acc 0.6496\n",
      "   20 (000013 sec): Cost 0.1713   Acc 0.7883\n",
      "   30 (000018 sec): Cost 0.1418   Acc 0.8102\n",
      "   40 (000024 sec): Cost 0.1274   Acc 0.8248\n",
      "   50 (000030 sec): Cost 0.1204   Acc 0.8686\n",
      "   60 (000036 sec): Cost 0.1164   Acc 0.8832\n",
      "   70 (000041 sec): Cost 0.1135   Acc 0.8832\n",
      "   80 (000047 sec): Cost 0.1113   Acc 0.8759\n",
      "   90 (000053 sec): Cost 0.1095   Acc 0.8759\n",
      "\n",
      "Training completed: epochs=100 in 58sec (00:00:58)\n",
      "\tmin MSE = 0.1081 @ 0099, max ACC = 0.8905 @ 0061\n"
     ]
    }
   ],
   "source": [
    "### Ensure repeatability\n",
    "torch.manual_seed(seed)\n",
    "torch.cuda.manual_seed(seed)\n",
    "torch.backends.cudnn.deterministic = True\n",
    "torch.backends.cudnn.benchmark = False\n",
    "\n",
    "### Create a model\n",
    "q_auto = Quantum_Auto(sim, X_train_tens.shape[1], n_layers=n_layers, shots=shots).double().to(torch_device)\n",
    "\n",
    "### Loss and optimiser\n",
    "# cost_fun = nn.CrossEntropyLoss()\n",
    "cost_fun = nn.MSELoss()\n",
    "\n",
    "# opt = optim.SGD(model.parameters(),lr=0.01,weight_decay=1e-5)\n",
    "# opt = torch.optim.Adam(q_auto.parameters())\n",
    "opt = torch.optim.NAdam(q_auto.parameters(), lr=0.01)\n",
    "\n",
    "### Train the model\n",
    "print()\n",
    "\n",
    "prompt_fract = 0.1\n",
    "start_time = time.time()\n",
    "train_mse_hist, train_acc_hist, opt_params, hist_params, opt_point = \\\n",
    "    train_model(q_auto, X_train_tens, y_train_tens, cost_fun, accuracy, opt, epochs, \n",
    "                log_interv=log_interv, prompt_fract=prompt_fract, acc_prec=acc_prec)\n",
    "elapsed = time.time() - start_time\n",
    "\n",
    "### Print the training summary\n",
    "train_min_mse = np.min(train_mse_hist)\n",
    "train_min_mse_iter = np.argmin(train_mse_hist)\n",
    "train_max_acc = np.max(train_acc_hist)\n",
    "train_max_acc_iter = np.argmax(train_acc_hist)\n",
    "\n",
    "time_str = time.strftime(\"%H:%M:%S\", time.gmtime(elapsed))\n",
    "print(f'\\nTraining completed: epochs={epochs} '+\\\n",
    "      f'in {elapsed:0.0f}sec ({time_str})\\n\\t'+\n",
    "      f'min MSE = {np.round(train_min_mse, 5):05.4f} @ {train_min_mse_iter:04d}, '+\n",
    "      f'max ACC = {np.round(train_max_acc, 5):05.4f} @ {train_max_acc_iter:04d}')"
   ]
  },
  {
   "cell_type": "markdown",
   "id": "64c25d36-3ba0-4e4f-a929-ff0407d0874f",
   "metadata": {},
   "source": [
    "### Calculate testing scores"
   ]
  },
  {
   "cell_type": "code",
   "execution_count": 34,
   "id": "e778d717-170f-4d9f-ba5c-8fc90f83f152",
   "metadata": {},
   "outputs": [
    {
     "name": "stdout",
     "output_type": "stream",
     "text": [
      "\n",
      "Completed calculation of testing scores\n",
      "\n",
      "Summary of model training run\n",
      "\n",
      "\tparams = 75, epochs = 100, time = 58sec (00:00:58)\n",
      "\ttraining: MSE = 0.1081 @ 0099, ACC = 0.8905 @ 0061\n",
      "\ttesting:  MSE = 0.1594 @ 0099, ACC = 0.7794 @ 0039\n",
      "\t\n",
      "\n"
     ]
    }
   ],
   "source": [
    "### Accumulate test scores\n",
    "test_mse_hist = []\n",
    "test_acc_hist = []\n",
    "\n",
    "### Initialise testing loss and accuracy\n",
    "test_min_mse = 1000\n",
    "test_min_mse_iter = -1\n",
    "test_max_acc = 0\n",
    "test_max_acc_iter = -1\n",
    "\n",
    "### Calculate testing loss and accuracy\n",
    "for iter in range(len(hist_params)):\n",
    "    q_auto.load_state_dict(hist_params[iter])\n",
    "    test_pred = q_auto(X_test_tens)\n",
    "    curr_acc = accuracy(y_test_tens, test_pred, prec=acc_prec)\n",
    "    curr_cost = square_mse(y_test_tens, test_pred)\n",
    "    test_acc_hist.append(curr_acc)\n",
    "    test_mse_hist.append(curr_cost)\n",
    "    if curr_acc > test_max_acc:\n",
    "        test_max_acc = curr_acc\n",
    "        test_max_acc_iter = iter\n",
    "    if curr_cost < test_min_mse:\n",
    "        test_min_mse = curr_cost\n",
    "        test_min_mse_iter = iter\n",
    "\n",
    "### Run summary\n",
    "time_str = time.strftime(\"%H:%M:%S\", time.gmtime(elapsed))\n",
    "print(f'\\nCompleted calculation of testing scores\\n\\nSummary of model training run\\n\\n\\t'+\n",
    "      f'params = {count_params(q_auto)}, '+\n",
    "      f'epochs = {epochs}, '+\n",
    "      f'time = {elapsed:0.0f}sec ({time_str})\\n\\t'+\n",
    "      f'training: MSE = {np.round(train_min_mse, 5):05.4f} @ {train_min_mse_iter:04d}, '+\n",
    "      f'ACC = {np.round(train_max_acc, 5):05.4f} @ {train_max_acc_iter:04d}\\n\\t'+\n",
    "      f'testing:  MSE = {np.round(test_min_mse, 5):05.4f} @ {test_min_mse_iter:04d}, '+\n",
    "      f'ACC = {np.round(test_max_acc, 5):05.4f} @ {test_max_acc_iter:04d}\\n\\t'+\n",
    "      f'\\n'\n",
    "     )"
   ]
  },
  {
   "cell_type": "markdown",
   "id": "5630b613-a635-42aa-8cfc-66df147f35bb",
   "metadata": {},
   "source": [
    "### Plot costs and scores"
   ]
  },
  {
   "cell_type": "code",
   "execution_count": 35,
   "id": "95c0feba-881a-46df-85e8-5d110eccced6",
   "metadata": {},
   "outputs": [
    {
     "data": {
      "image/png": "[encoded data removed]",
      "text/plain": [
       "<Figure size 1200x600 with 1 Axes>"
      ]
     },
     "metadata": {},
     "output_type": "display_data"
    }
   ],
   "source": [
    "train_label = f'Train: min MSE (cost) = {round(train_min_mse, 5):05.4f} @ {train_min_mse_iter:04d}'\n",
    "test_label =  f'Test:  min MSE (cost) = {round(test_min_mse, 5):05.4f} @ {test_min_mse_iter:04d}'\n",
    "multi_plot_series(\n",
    "    [train_mse_hist, test_mse_hist], X_list=[0, 0], labels=[train_label, test_label], \n",
    "    lines=['solid', 'dashed'], # colors=None, markers=None, marker_colors=None,\n",
    "    rcParams=(12, 6), xlabel='Training iterations', ylabel='MSE cost',\n",
    "    legend_cols=1, smooth_weight=0.6, title='Classifier training performance')"
   ]
  },
  {
   "cell_type": "code",
   "execution_count": 39,
   "id": "30ed0842-0499-4a65-995d-5e69df551dbb",
   "metadata": {},
   "outputs": [
    {
     "data": {
      "image/png": "[encoded data removed]",
      "text/plain": [
       "<Figure size 1200x600 with 1 Axes>"
      ]
     },
     "metadata": {},
     "output_type": "display_data"
    }
   ],
   "source": [
    "train_label = f'Train: max ACC = {round(train_max_acc, 5):05.4f} @ {train_max_acc_iter:04d}'\n",
    "test_label =  f'Test:  max ACC = {round(test_max_acc, 5):05.4f} @ {test_max_acc_iter:04d}'\n",
    "multi_plot_series(\n",
    "    [train_acc_hist, test_acc_hist], X_list=[0, 0], labels=[train_label, test_label], \n",
    "    lines=['solid', 'dashed'], ylim=(0, 1.05), # colors=None, markers=None, marker_colors=None,\n",
    "    rcParams=(12, 6), xlabel='Training iterations', ylabel='Accuracy of risk predictions',\n",
    "    legend_cols=1, smooth_weight=0.6, title='Classification of car insurance risk')"
   ]
  },
  {
   "cell_type": "markdown",
   "id": "772cdd4e-5ac1-461e-b293-12f99754e25f",
   "metadata": {},
   "source": [
    "---"
   ]
  },
  {
   "cell_type": "markdown",
   "id": "e8ea776d-ed69-45e7-b98d-94eddb993248",
   "metadata": {},
   "source": [
    "## Write your observations here\n",
    "\n",
    "- Task 1:\n",
    "- Task 2:\n",
    "- Task 3:\n",
    "- Task 4:\n",
    "- Task 5:\n",
    "- Challenge:\n",
    "- Reflection:"
   ]
  },
  {
   "cell_type": "markdown",
   "id": "f2c6c276-c691-4591-bc0b-58cc75c16445",
   "metadata": {},
   "source": [
    "## Software (Linux)"
   ]
  },
  {
   "cell_type": "code",
   "execution_count": 37,
   "id": "b7dd04a7-3c57-4aab-8b4d-337597353bcf",
   "metadata": {},
   "outputs": [
    {
     "name": "stdout",
     "output_type": "stream",
     "text": [
      "PennyLane                 0.40.0\n",
      "PennyLane_Lightning       0.40.0\n",
      "torch                     2.6.0+cpu\n",
      "torchaudio                2.6.0+cpu\n",
      "torcheval                 0.0.7\n",
      "torchmetrics              1.6.1\n",
      "torchsummary              1.5.1\n",
      "torchvision               0.21.0+cpu\n"
     ]
    },
    {
     "name": "stderr",
     "output_type": "stream",
     "text": [
      "\n",
      "[notice] A new release of pip is available: 23.1.2 -> 25.0.1\n",
      "[notice] To update, run: pip install --upgrade pip\n"
     ]
    }
   ],
   "source": [
    "import os\n",
    "os.system('pip list | grep -e PennyLane -e torch');"
   ]
  }
 ],
 "metadata": {
  "kernelspec": {
   "display_name": "Python 3 (ipykernel)",
   "language": "python",
   "name": "python3"
  },
  "language_info": {
   "codemirror_mode": {
    "name": "ipython",
    "version": 3
   },
   "file_extension": ".py",
   "mimetype": "text/x-python",
   "name": "python",
   "nbconvert_exporter": "python",
   "pygments_lexer": "ipython3",
   "version": "3.11.4"
  },
  "widgets": {
   "application/vnd.jupyter.widget-state+json": {
    "state": {},
    "version_major": 2,
    "version_minor": 0
   }
  }
 },
 "nbformat": 4,
 "nbformat_minor": 5
}
